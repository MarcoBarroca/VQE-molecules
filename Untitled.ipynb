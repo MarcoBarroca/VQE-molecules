{
 "cells": [
  {
   "cell_type": "code",
   "execution_count": 86,
   "id": "ba80228e",
   "metadata": {},
   "outputs": [],
   "source": [
    "from qiskit_nature.drivers import Molecule\n",
    "\n",
    "molecule = Molecule(\n",
    "    # coordinates are given in Angstrom\n",
    "    geometry=[\n",
    "        [\"Li\", [0.0, 0.0, 0.0]],\n",
    "        [\"H\", [0.0, 0.0, 1.6]],\n",
    "    ],\n",
    "    multiplicity=1,  # = 2*spin + 1\n",
    "    charge=0,\n",
    ")"
   ]
  },
  {
   "cell_type": "code",
   "execution_count": 87,
   "id": "3d9e3c16",
   "metadata": {},
   "outputs": [],
   "source": [
    "from qiskit_nature.drivers.second_quantization import ElectronicStructureMoleculeDriver, ElectronicStructureDriverType\n",
    "\n",
    "driver = ElectronicStructureMoleculeDriver(\n",
    "    molecule=molecule,\n",
    "    basis=\"sto3g\",\n",
    "    driver_type=ElectronicStructureDriverType.PYSCF,\n",
    ")"
   ]
  },
  {
   "cell_type": "code",
   "execution_count": 88,
   "id": "0fec73ed",
   "metadata": {},
   "outputs": [],
   "source": [
    "from qiskit_nature.problems.second_quantization.electronic import ElectronicStructureProblem\n",
    "\n",
    "problem = ElectronicStructureProblem(driver)"
   ]
  },
  {
   "cell_type": "code",
   "execution_count": 172,
   "id": "c1b219fa",
   "metadata": {},
   "outputs": [],
   "source": [
    "from qiskit_nature.mappers.second_quantization import ParityMapper\n",
    "\n",
    "parity_mapper = ParityMapper()\n",
    "parity_converter = QubitConverter(parity_mapper, two_qubit_reduction=True)"
   ]
  },
  {
   "cell_type": "code",
   "execution_count": 173,
   "id": "bbf0eba6",
   "metadata": {},
   "outputs": [],
   "source": [
    "from qiskit_nature.transformers.second_quantization.electronic import ActiveSpaceTransformer, FreezeCoreTransformer\n",
    "\n",
    "transformer = ActiveSpaceTransformer(\n",
    "    num_electrons=2,\n",
    "    num_molecular_orbitals=3,\n",
    ")"
   ]
  },
  {
   "cell_type": "code",
   "execution_count": 174,
   "id": "b3bc4585",
   "metadata": {},
   "outputs": [],
   "source": [
    "problem_reduced = ElectronicStructureProblem(driver, [\n",
    "    #transformer\n",
    "    FreezeCoreTransformer(freeze_core=True,remove_orbitals=[4,5])\n",
    "])\n",
    "second_q_ops_reduced = problem_reduced.second_q_ops()\n",
    "hamiltonian_reduced = second_q_ops_reduced[0]"
   ]
  },
  {
   "cell_type": "code",
   "execution_count": 175,
   "id": "23df4c1d",
   "metadata": {},
   "outputs": [],
   "source": [
    "particle_number = problem_reduced.grouped_property_transformed.get_property(\"ParticleNumber\")\n",
    "num_spin_orbitals = particle_number.num_spin_orbitals\n",
    "num_particles = particle_number.num_particles"
   ]
  },
  {
   "cell_type": "code",
   "execution_count": 108,
   "id": "7fcf3ac6",
   "metadata": {},
   "outputs": [],
   "source": [
    "from qiskit.algorithms.optimizers import SLSQP\n",
    "from qiskit.providers.aer import StatevectorSimulator, QasmSimulator\n",
    "from qiskit_nature.algorithms.ground_state_solvers.minimum_eigensolver_factories import VQEUCCFactory\n",
    "\n",
    "# this will setup the UCCSD + HartreeFock Ansatz internally at runtime\n",
    "vqe_factory = VQEUCCFactory(\n",
    "    quantum_instance=StatevectorSimulator(),\n",
    "    #quantum_instance=QasmSimulator(),\n",
    "    optimizer=SLSQP(),\n",
    ")"
   ]
  },
  {
   "cell_type": "code",
   "execution_count": 109,
   "id": "19a9d1ce",
   "metadata": {},
   "outputs": [],
   "source": [
    "from qiskit_nature.algorithms.ground_state_solvers import GroundStateEigensolver\n",
    "\n",
    "solver = GroundStateEigensolver(parity_converter, vqe_factory)"
   ]
  },
  {
   "cell_type": "code",
   "execution_count": 123,
   "id": "11ec8216",
   "metadata": {},
   "outputs": [],
   "source": [
    "result = solver.solve(problem_reduced)"
   ]
  },
  {
   "cell_type": "code",
   "execution_count": 124,
   "id": "33f07038",
   "metadata": {},
   "outputs": [
    {
     "name": "stdout",
     "output_type": "stream",
     "text": [
      "=== GROUND STATE ENERGY ===\n",
      " \n",
      "* Electronic ground state energy (Hartree): -8.854336075613\n",
      "  - computed part:      -1.058116506842\n",
      "  - FreezeCoreTransformer extracted energy part: -7.796219568771\n",
      "~ Nuclear repulsion energy (Hartree): 0.992207270475\n",
      "> Total ground state energy (Hartree): -7.862128805138\n",
      " \n",
      "=== MEASURED OBSERVABLES ===\n",
      " \n",
      "  0:  # Particles: 2.000 S: 0.000 S^2: 0.000 M: 0.000\n",
      " \n",
      "=== DIPOLE MOMENTS ===\n",
      " \n",
      "~ Nuclear dipole moment (a.u.): [0.0  0.0  3.0235618]\n",
      " \n",
      "  0: \n",
      "  * Electronic dipole moment (a.u.): [0.0  0.0  4.92008308]\n",
      "    - computed part:      [0.0  0.0  4.924135]\n",
      "    - FreezeCoreTransformer extracted energy part: [0.0  0.0  -0.00405191]\n",
      "  > Dipole moment (a.u.): [0.0  0.0  -1.89652128]  Total: 1.89652128\n",
      "                 (debye): [0.0  0.0  -4.82047582]  Total: 4.82047582\n",
      " \n"
     ]
    }
   ],
   "source": [
    "print(result)"
   ]
  },
  {
   "cell_type": "code",
   "execution_count": 176,
   "id": "148b1786",
   "metadata": {},
   "outputs": [
    {
     "data": {
      "text/plain": [
       "6"
      ]
     },
     "execution_count": 176,
     "metadata": {},
     "output_type": "execute_result"
    }
   ],
   "source": [
    "parity_converter.convert(hamiltonian_reduced).num_qubits"
   ]
  },
  {
   "cell_type": "code",
   "execution_count": 170,
   "id": "2b0dee87",
   "metadata": {},
   "outputs": [
    {
     "name": "stdout",
     "output_type": "stream",
     "text": [
      "ParticleNumber:\n",
      "\t6 SOs\n",
      "\t1 alpha electrons\n",
      "\t\torbital occupation: [1. 0. 0.]\n",
      "\t1 beta electrons\n",
      "\t\torbital occupation: [1. 0. 0.]\n"
     ]
    }
   ],
   "source": [
    "print(particle_number)"
   ]
  },
  {
   "cell_type": "code",
   "execution_count": 5,
   "id": "61be2c38",
   "metadata": {},
   "outputs": [],
   "source": [
    "from qiskit.test.mock import FakeWashington"
   ]
  },
  {
   "cell_type": "code",
   "execution_count": null,
   "id": "480cd275",
   "metadata": {},
   "outputs": [],
   "source": []
  }
 ],
 "metadata": {
  "kernelspec": {
   "display_name": "Python 3 (ipykernel)",
   "language": "python",
   "name": "python3"
  },
  "language_info": {
   "codemirror_mode": {
    "name": "ipython",
    "version": 3
   },
   "file_extension": ".py",
   "mimetype": "text/x-python",
   "name": "python",
   "nbconvert_exporter": "python",
   "pygments_lexer": "ipython3",
   "version": "3.10.4"
  }
 },
 "nbformat": 4,
 "nbformat_minor": 5
}
